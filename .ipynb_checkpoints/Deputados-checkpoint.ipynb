{
 "cells": [
  {
   "cell_type": "markdown",
   "metadata": {},
   "source": [
    "Importo as bibliotecas necessárias"
   ]
  },
  {
   "cell_type": "code",
   "execution_count": 1,
   "metadata": {
    "collapsed": true
   },
   "outputs": [],
   "source": [
    "import glob\n",
    "import pandas as pd\n",
    "import unicodedata\n",
    "import numpy as np\n",
    "import matplotlib.pyplot as plt\n",
    "from numpy.linalg import svd\n",
    "\n",
    "from collections import Counter\n",
    "from scipy.spatial.distance import pdist,squareform\n"
   ]
  },
  {
   "cell_type": "code",
   "execution_count": 2,
   "metadata": {
    "collapsed": true
   },
   "outputs": [],
   "source": [
    "%matplotlib inline"
   ]
  },
  {
   "cell_type": "markdown",
   "metadata": {},
   "source": [
    "Carrega todos os dados da pasta \"dados_camara\" e mesclo tudo em um únido dataframe, dando um join nos dados pelas colunas: nome, partido e uf"
   ]
  },
  {
   "cell_type": "code",
   "execution_count": 3,
   "metadata": {
    "collapsed": true
   },
   "outputs": [],
   "source": [
    "votacoes = None\n",
    "matchColumns = [\"nome\",\"partido\",\"uf\"]\n",
    "for _file in glob.glob('./dados_camara/*.csv'):\n",
    "    if votacoes is None:\n",
    "        votacoes = pd.read_csv(_file, encoding='utf-8')\n",
    "    else:\n",
    "        votacoes = pd.merge(left=votacoes, right=pd.read_csv(_file, encoding='utf-8'), how=\"outer\", left_on=matchColumns, right_on=matchColumns)"
   ]
  },
  {
   "cell_type": "code",
   "execution_count": 4,
   "metadata": {},
   "outputs": [
    {
     "data": {
      "text/plain": [
       "(4173, 3118)"
      ]
     },
     "execution_count": 4,
     "metadata": {},
     "output_type": "execute_result"
    }
   ],
   "source": [
    "votacoes.shape"
   ]
  },
  {
   "cell_type": "code",
   "execution_count": 5,
   "metadata": {
    "collapsed": true
   },
   "outputs": [],
   "source": [
    "votacoes.fillna(0, inplace=True)"
   ]
  },
  {
   "cell_type": "code",
   "execution_count": null,
   "metadata": {
    "collapsed": true
   },
   "outputs": [],
   "source": []
  },
  {
   "cell_type": "code",
   "execution_count": null,
   "metadata": {
    "collapsed": true
   },
   "outputs": [],
   "source": []
  },
  {
   "cell_type": "code",
   "execution_count": null,
   "metadata": {
    "collapsed": true
   },
   "outputs": [],
   "source": []
  },
  {
   "cell_type": "code",
   "execution_count": 6,
   "metadata": {
    "collapsed": true
   },
   "outputs": [],
   "source": [
    "estados = votacoes.uf\n",
    "estados = pd.Series([unicodedata.normalize(\"NFKD\", e).strip() for e in estados])"
   ]
  },
  {
   "cell_type": "code",
   "execution_count": 7,
   "metadata": {
    "collapsed": true
   },
   "outputs": [],
   "source": [
    "estados_regioes = {('SP','MG','RJ','ES') : 'SE' ,\n",
    "           ('DF','MT','MS','GO') : 'CO' ,\n",
    "           ('RS','PR','SC') : 'SU' ,\n",
    "           ('AL','BA','CE','MA','PB','PE','PI','RN','SE') : 'NE',\n",
    "           ('AC','AP','AM','PA','RO','RR','TO') : 'NO'}"
   ]
  },
  {
   "cell_type": "code",
   "execution_count": 8,
   "metadata": {
    "collapsed": true
   },
   "outputs": [],
   "source": [
    "regioes = pd.Series([estados_regioes[k] for e in estados for k in estados_regioes.keys()  if e in k])"
   ]
  },
  {
   "cell_type": "code",
   "execution_count": 9,
   "metadata": {
    "collapsed": true
   },
   "outputs": [],
   "source": [
    "votos = votacoes.iloc[:,3:votacoes.shape[1]]\n",
    "votos = votos[(votos.T != 0).any()]\n",
    "votacoes = votacoes.iloc[votos.index.tolist(),:]"
   ]
  },
  {
   "cell_type": "code",
   "execution_count": 10,
   "metadata": {
    "collapsed": true
   },
   "outputs": [],
   "source": [
    "deputados = votacoes.nome"
   ]
  },
  {
   "cell_type": "code",
   "execution_count": 11,
   "metadata": {
    "collapsed": true
   },
   "outputs": [],
   "source": [
    "partidos = votacoes.partido"
   ]
  },
  {
   "cell_type": "code",
   "execution_count": 12,
   "metadata": {},
   "outputs": [
    {
     "data": {
      "text/plain": [
       "(4164, 3118)"
      ]
     },
     "execution_count": 12,
     "metadata": {},
     "output_type": "execute_result"
    }
   ],
   "source": [
    "votacoes.shape\n"
   ]
  },
  {
   "cell_type": "code",
   "execution_count": 13,
   "metadata": {},
   "outputs": [
    {
     "data": {
      "text/plain": [
       "(4164, 3115)"
      ]
     },
     "execution_count": 13,
     "metadata": {},
     "output_type": "execute_result"
    }
   ],
   "source": [
    "votos.shape"
   ]
  },
  {
   "cell_type": "code",
   "execution_count": 14,
   "metadata": {
    "collapsed": true
   },
   "outputs": [],
   "source": [
    "corr = np.corrcoef(votos)"
   ]
  },
  {
   "cell_type": "code",
   "execution_count": null,
   "metadata": {
    "collapsed": true
   },
   "outputs": [],
   "source": []
  },
  {
   "cell_type": "code",
   "execution_count": null,
   "metadata": {},
   "outputs": [],
   "source": [
    "fig,ax = plt.subplots(figsize=(40,30))\n",
    "ax.imshow(corr,cmap=plt.get_cmap('Spectral'))\n",
    "ax.set_yticks(range(len(deputados)))\n",
    "ax.set_yticklabels(deputados)\n",
    "ax.set_xticks(range(len(deputados)))\n",
    "ax.set_xticklabels(deputados,rotation=90)\n",
    "ax.xaxis.tick_top()"
   ]
  },
  {
   "cell_type": "code",
   "execution_count": null,
   "metadata": {
    "collapsed": true
   },
   "outputs": [],
   "source": [
    "U, Sigma, V = svd(corr)"
   ]
  },
  {
   "cell_type": "code",
   "execution_count": null,
   "metadata": {
    "collapsed": true
   },
   "outputs": [],
   "source": [
    "afinidade = U[:,0]"
   ]
  },
  {
   "cell_type": "code",
   "execution_count": null,
   "metadata": {
    "collapsed": true
   },
   "outputs": [],
   "source": [
    "cut =  np.sum(afinidade < np.mean(afinidade)) - 0.5"
   ]
  },
  {
   "cell_type": "code",
   "execution_count": null,
   "metadata": {
    "collapsed": true
   },
   "outputs": [],
   "source": [
    "iafinidade = np.argsort(afinidade)\n",
    "corr_afinidade = corr[iafinidade,:]\n",
    "corr_afinidade = corr_afinidade[:,iafinidade]"
   ]
  },
  {
   "cell_type": "code",
   "execution_count": null,
   "metadata": {},
   "outputs": [],
   "source": [
    "fig,ax = plt.subplots(figsize=(20,15))\n",
    "ax.imshow(corr_afinidade,cmap=plt.get_cmap('Spectral'))\n",
    "ax.plot([0,74],[cut,cut],color='black',lw=2)\n",
    "ax.plot([cut,cut],[0,74],color='black',lw=2)\n",
    "ax.set_xticks([15,53])\n",
    "ax.set_yticks(range(len(deputados)))\n",
    "ax.set_xticklabels([u\"oposição\",u\"governo\"])\n",
    "ax.set_yticklabels(deputados[iafinidade])\n",
    "ax.xaxis.tick_top()"
   ]
  },
  {
   "cell_type": "code",
   "execution_count": null,
   "metadata": {
    "collapsed": true
   },
   "outputs": [],
   "source": [
    "part_ord = np.lexsort([iafinidade,partidos])\n",
    "corr_partido = corr[part_ord,:]\n",
    "corr_partido = corr_partido[:,part_ord]"
   ]
  },
  {
   "cell_type": "code",
   "execution_count": null,
   "metadata": {},
   "outputs": [],
   "source": [
    "splits = [i for i in range(len(partidos)-1) if partidos[i] != partidos[i+1]]\n",
    "fig,ax = plt.subplots(figsize=(20,15))\n",
    "partido_ord=pd.Series(partidos[part_ord].reset_index(drop=True))\n",
    "splits = [i for i in range(len(partido_ord)-1) if partido_ord[i] != partido_ord[i+1]]\n",
    "cj_partidos = set(partido_ord) \n",
    "pos = [np.mean(np.where(partido_ord==p))  for p in cj_partidos]\n",
    "\n",
    "ax.imshow(corr_partido ,cmap=plt.get_cmap('Spectral'))\n",
    "for i in splits:\n",
    "    ax.plot([0,74],[i+0.5,i+0.5],color='black',lw=2)\n",
    "    ax.plot([i+0.5,i+0.5],[0,74],color='black',lw=2)\n",
    "    \n",
    "ax.set_xticks(pos)\n",
    "ax.set_yticks(range(len(deputados)))\n",
    "ax.set_xticklabels(cj_partidos,rotation=90)\n",
    "ax.set_yticklabels(deputados[part_ord])\n",
    "ax.xaxis.tick_top()"
   ]
  },
  {
   "cell_type": "code",
   "execution_count": null,
   "metadata": {},
   "outputs": [],
   "source": [
    "rgb_values = plt.get_cmap(\"nipy_spectral\", len(cj_partidos))\n",
    "colors = [rgb_values(i) for i in range(len(cj_partidos))]\n",
    "cmap = dict(zip(cj_partidos,colors))\n",
    "counts = Counter(partidos)\n",
    "\n",
    "fig, ax = plt.subplots(figsize=(10,10))\n",
    "for p in cj_partidos:\n",
    "    pts = partidos[partidos==p].index\n",
    "    ax.scatter(np.mean(U[pts,0]),np.mean(U[pts,1]), c=cmap[p], s = np.log(counts[p]+1)*150, label=p,\n",
    "               alpha=0.7, edgecolors='none')\n",
    "\n",
    "ax.legend(loc=9,ncol=(len(cj_partidos)+1)/2,bbox_to_anchor=(0.5, 1.1))"
   ]
  },
  {
   "cell_type": "code",
   "execution_count": null,
   "metadata": {
    "collapsed": true
   },
   "outputs": [],
   "source": [
    "reg_ord = np.lexsort([iafinidade,regioes])\n",
    "corr_regiao = corr[reg_ord,:]\n",
    "corr_regiao = corr_regiao[:,reg_ord]"
   ]
  },
  {
   "cell_type": "code",
   "execution_count": null,
   "metadata": {},
   "outputs": [],
   "source": [
    "fig,ax = plt.subplots(figsize=(20,15))\n",
    "regioes_ord = pd.Series(regioes[reg_ord].reset_index(drop=True))\n",
    "splits = [i for i in range(len(regioes_ord)-1) if regioes_ord[i] != regioes_ord[i+1]]\n",
    "cj_regioes = set(regioes_ord) \n",
    "pos = [np.mean(np.where(regioes_ord==p))  for p in cj_regioes]\n",
    "\n",
    "ax.imshow(corr_regiao,cmap=plt.get_cmap('Spectral'))\n",
    "for i in splits:\n",
    "    ax.plot([0,votos.shape[0]],[i+0.5,i+0.5],color='black',lw=2)\n",
    "    ax.plot([i+0.5,i+0.5],[0,votos.shape[0]],color='black',lw=2)\n",
    "    \n",
    "ax.set_xticks(pos)\n",
    "ax.set_yticks(range(len(deputados)))\n",
    "ax.set_xticklabels(cj_regioes,rotation=90)\n",
    "ax.set_yticklabels(deputados[reg_ord])\n",
    "fig.show()"
   ]
  },
  {
   "cell_type": "code",
   "execution_count": null,
   "metadata": {},
   "outputs": [],
   "source": [
    "rgb_values = plt.get_cmap(\"nipy_spectral\", len(cj_regioes))\n",
    "colors = [rgb_values(i) for i in range(len(cj_regioes))]\n",
    "cmap = dict(zip(cj_regioes,colors))\n",
    "counts = Counter(regioes)\n",
    "\n",
    "fig, ax = plt.subplots(figsize=(10,10))\n",
    "for p in cj_regioes:\n",
    "    pts = regioes[regioes==p].index\n",
    "    ax.scatter(np.mean(U[pts,0]),np.mean(U[pts,1]), c=cmap[p], s = counts[p]*15, label=p,\n",
    "               alpha=0.7, edgecolors='none')\n",
    "\n",
    "ax.legend(loc=9,ncol=(len(cj_partidos)+1)/2,bbox_to_anchor=(0.5, 1.1))\n",
    "fig.show()"
   ]
  },
  {
   "cell_type": "code",
   "execution_count": null,
   "metadata": {
    "collapsed": true
   },
   "outputs": [],
   "source": [
    "acertos = []\n",
    "por_partido = {\n",
    "    'PT' : [],\n",
    "    'PMDB' : [],\n",
    "    'PSDB' : [],\n",
    "}\n",
    "for votacao in range(1,votos.shape[1]):\n",
    "    d = squareform(pdist(votos.iloc[:,range(votacao)]))\n",
    "    np.fill_diagonal(d,float('inf'))\n",
    "    nn = [np.random.choice(np.argwhere(d[i,:] == np.amin(d[i,:]))[0]) for i in range(len(d))] \n",
    "    prediction = votos.iloc[nn,votacao].reset_index(drop=True)\n",
    "    acertos.append(np.mean(prediction == votos.iloc[:,votacao]))\n",
    "    for p in por_partido.keys():\n",
    "        sset = np.where(partidos==p)[0]\n",
    "        por_partido[p].append(np.mean(prediction.iloc[sset] == votos.iloc[sset,votacao]))"
   ]
  },
  {
   "cell_type": "code",
   "execution_count": null,
   "metadata": {},
   "outputs": [],
   "source": [
    "fig, ax = plt.subplots(figsize=(10,10))\n",
    "\n",
    "ax.plot(acertos,label=\"Geral\")\n",
    "for p in por_partido.keys():\n",
    "    ax.plot(por_partido[p],label=p,alpha=0.5)\n",
    "ax.legend(loc=9,ncol=4,bbox_to_anchor=(0.5, 1.03))\n",
    "plt.show()"
   ]
  },
  {
   "cell_type": "code",
   "execution_count": null,
   "metadata": {
    "collapsed": true
   },
   "outputs": [],
   "source": []
  },
  {
   "cell_type": "code",
   "execution_count": null,
   "metadata": {
    "collapsed": true
   },
   "outputs": [],
   "source": []
  },
  {
   "cell_type": "code",
   "execution_count": null,
   "metadata": {
    "collapsed": true
   },
   "outputs": [],
   "source": []
  }
 ],
 "metadata": {
  "kernelspec": {
   "display_name": "Python 3",
   "language": "python",
   "name": "python3"
  },
  "language_info": {
   "codemirror_mode": {
    "name": "ipython",
    "version": 3
   },
   "file_extension": ".py",
   "mimetype": "text/x-python",
   "name": "python",
   "nbconvert_exporter": "python",
   "pygments_lexer": "ipython3",
   "version": "3.6.2"
  }
 },
 "nbformat": 4,
 "nbformat_minor": 2
}
